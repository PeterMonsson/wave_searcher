{
 "cells": [
  {
   "cell_type": "code",
   "execution_count": 6,
   "metadata": {},
   "outputs": [],
   "source": [
    "import os\n",
    "from coverage.regression import *\n",
    "from coverage.snps import *"
   ]
  },
  {
   "cell_type": "code",
   "execution_count": 7,
   "metadata": {},
   "outputs": [],
   "source": [
    "# the signals you want to search, could be a superset\n",
    "top_sigs = SignalGroup(\n",
    "    scope=\"top\",\n",
    "    match_strings=['^.*valid.*$', '^.*data.*$']\n",
    ")"
   ]
  },
  {
   "cell_type": "code",
   "execution_count": 8,
   "metadata": {},
   "outputs": [
    {
     "name": "stdout",
     "output_type": "stream",
     "text": [
      "found  5  fsdbs\n",
      "extracting data for  coverage/examples/test1.fsdb  test # 0  out of:  5\n",
      "finished extracting  coverage/examples/test1.fsdb\n",
      "extracting data for  coverage/examples/test2.fsdb  test # 1  out of:  5\n",
      "finished extracting  coverage/examples/test2.fsdb\n",
      "extracting data for  coverage/examples/test3.fsdb  test # 2  out of:  5\n",
      "finished extracting  coverage/examples/test3.fsdb\n",
      "extracting data for  coverage/examples/test4.fsdb  test # 3  out of:  5\n",
      "finished extracting  coverage/examples/test4.fsdb\n",
      "extracting data for  coverage/examples/test5.fsdb  test # 4  out of:  5\n",
      "finished extracting  coverage/examples/test5.fsdb\n",
      "Took  1.7070787027478218  to extract data\n"
     ]
    }
   ],
   "source": [
    "# pulls test results\n",
    "regression = SnpsRegression(half_clock=5)\n",
    "\n",
    "# opens waveforms and extract signals that match the above\n",
    "regression.extract_data(signal_groups=[top_sigs])"
   ]
  },
  {
   "cell_type": "code",
   "execution_count": 9,
   "metadata": {},
   "outputs": [
    {
     "name": "stdout",
     "output_type": "stream",
     "text": [
      "****** starting test: *******coverage/examples/test1.fsdb\n",
      "****** starting test: *******coverage/examples/test2.fsdb\n",
      "****** starting test: *******coverage/examples/test3.fsdb\n",
      "****** starting test: *******coverage/examples/test4.fsdb\n",
      "condition 1 matched at time: 65\n",
      "condition 2 matched at time: 65\n",
      "search criteria matched at time:  65\n"
     ]
    }
   ],
   "source": [
    "# query format: (signal name, value, clock cycles from first match)\n",
    "# so, if valid2 happens 3 clock cycles after valid1, and data==6 3 clock cycles after valid1, we match\n",
    "search_query = [\n",
    "   ('top.valid1',1,0),\n",
    "   ('top.valid2',1,3),\n",
    "   ('top.data',6,3),\n",
    "]\n",
    "\n",
    "regression.search(search_query)"
   ]
  },
  {
   "cell_type": "code",
   "execution_count": null,
   "metadata": {},
   "outputs": [],
   "source": []
  }
 ],
 "metadata": {
  "kernelspec": {
   "display_name": "Python 3",
   "language": "python",
   "name": "python3"
  },
  "language_info": {
   "codemirror_mode": {
    "name": "ipython",
    "version": 3
   },
   "file_extension": ".py",
   "mimetype": "text/x-python",
   "name": "python",
   "nbconvert_exporter": "python",
   "pygments_lexer": "ipython3",
   "version": "3.7.3"
  }
 },
 "nbformat": 4,
 "nbformat_minor": 4
}
