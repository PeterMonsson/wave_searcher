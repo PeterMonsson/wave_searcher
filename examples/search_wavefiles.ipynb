{
 "cells": [
  {
   "cell_type": "code",
   "execution_count": 1,
   "metadata": {},
   "outputs": [],
   "source": [
    "from coverage.snps import *"
   ]
  },
  {
   "cell_type": "markdown",
   "metadata": {},
   "source": [
    "### Define the signals you want to extract from the wave file. In this case we will extract all signals in top that match data/valid"
   ]
  },
  {
   "cell_type": "code",
   "execution_count": 2,
   "metadata": {},
   "outputs": [],
   "source": [
    "from coverage.regression import SignalGroup\n",
    "\n",
    "# the signals you want to search, could be a superset\n",
    "top_sigs = SignalGroup(\n",
    "    scope=\"top\",\n",
    "    match_strings=['^.*valid.*$', '^.*data.*$']\n",
    ")"
   ]
  },
  {
   "cell_type": "markdown",
   "metadata": {},
   "source": [
    "### please execute ./run in the examples directory before this step\n",
    "\n",
    "### Define the regression path and extract the data into memory. When no regression path is defined use current directory. This step takes about 10-15 seconds for a medium-large wave file with 100's of signals. If you have 100's of those, you're looking into something like half an hour/hour."
   ]
  },
  {
   "cell_type": "code",
   "execution_count": 6,
   "metadata": {},
   "outputs": [
    {
     "name": "stdout",
     "output_type": "stream",
     "text": [
      "found  5  fsdbs\n",
      "extracting data for  /nfs/site/disks/aefody_wa/search_fsdbs/coverage/examples/test1.fsdb  test # 0  out of:  5\n",
      "finished extracting  /nfs/site/disks/aefody_wa/search_fsdbs/coverage/examples/test1.fsdb\n",
      "extracting data for  /nfs/site/disks/aefody_wa/search_fsdbs/coverage/examples/test2.fsdb  test # 1  out of:  5\n",
      "finished extracting  /nfs/site/disks/aefody_wa/search_fsdbs/coverage/examples/test2.fsdb\n",
      "extracting data for  /nfs/site/disks/aefody_wa/search_fsdbs/coverage/examples/test3.fsdb  test # 2  out of:  5\n",
      "finished extracting  /nfs/site/disks/aefody_wa/search_fsdbs/coverage/examples/test3.fsdb\n",
      "extracting data for  /nfs/site/disks/aefody_wa/search_fsdbs/coverage/examples/test4.fsdb  test # 3  out of:  5\n",
      "finished extracting  /nfs/site/disks/aefody_wa/search_fsdbs/coverage/examples/test4.fsdb\n",
      "extracting data for  /nfs/site/disks/aefody_wa/search_fsdbs/coverage/examples/test5.fsdb  test # 4  out of:  5\n",
      "finished extracting  /nfs/site/disks/aefody_wa/search_fsdbs/coverage/examples/test5.fsdb\n",
      "Took  1.7508676499128342  to extract data\n"
     ]
    }
   ],
   "source": [
    "# pulls test results\n",
    "regression = SnpsRegression(half_clock=5)\n",
    "\n",
    "# opens waveforms and extract signals that match the above\n",
    "regression.extract_data(signal_groups=[top_sigs])"
   ]
  },
  {
   "cell_type": "markdown",
   "metadata": {},
   "source": [
    "### define the search queries and execute them"
   ]
  },
  {
   "cell_type": "code",
   "execution_count": 9,
   "metadata": {},
   "outputs": [
    {
     "name": "stdout",
     "output_type": "stream",
     "text": [
      "****** starting test: *******coverage/examples/test1.fsdb\n",
      "****** starting test: *******coverage/examples/test2.fsdb\n",
      "****** starting test: *******coverage/examples/test3.fsdb\n",
      "****** starting test: *******coverage/examples/test4.fsdb\n",
      "condition 1 matched at time: 65\n",
      "condition 2 matched at time: 65\n",
      "search criteria matched at time:  65\n"
     ]
    }
   ],
   "source": [
    "# query format: (signal name, value, clock cycles from first match)\n",
    "# so, if valid2 happens 3 clock cycles after valid1, and data==6 3 clock cycles after valid1, we match\n",
    "search_query = [\n",
    "   ('top.valid1',1,0),\n",
    "   ('top.valid2',1,3),\n",
    "   ('top.data',6,3),\n",
    "]\n",
    "\n",
    "regression.search(search_query)"
   ]
  },
  {
   "cell_type": "code",
   "execution_count": null,
   "metadata": {},
   "outputs": [],
   "source": []
  }
 ],
 "metadata": {
  "kernelspec": {
   "display_name": "Python 3",
   "language": "python",
   "name": "python3"
  },
  "language_info": {
   "codemirror_mode": {
    "name": "ipython",
    "version": 3
   },
   "file_extension": ".py",
   "mimetype": "text/x-python",
   "name": "python",
   "nbconvert_exporter": "python",
   "pygments_lexer": "ipython3",
   "version": "3.7.3"
  }
 },
 "nbformat": 4,
 "nbformat_minor": 4
}
